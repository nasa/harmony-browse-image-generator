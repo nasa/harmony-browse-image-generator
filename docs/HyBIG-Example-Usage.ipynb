{
 "cells": [
  {
   "cell_type": "markdown",
   "id": "32af63de",
   "metadata": {},
   "source": [
    "# Harmony Browse Image Service (HyBIG) Example Notebook\n",
    "\n",
    "This Jupyter notebook demonstrates the functionality of the Harmony Browse Image Service (HyBIG)\n",
    "\n",
    "#### Contact\n",
    "* **Slack:** #harmony-service-providers\n",
    "* **JIRA:**  [SDPS Data Services](https://bugs.earthdata.nasa.gov/secure/RapidBoard.jspa?rapidView=757&view=planning.nodetail)\n",
    "\n",
    "\n",
    "HyBIG converts GeoTIFF inputs to Global Imagery Browse Services ([GIBS](https://nasa-gibs.github.io/gibs-api-docs/)) compatible PNG or JPEG outputs with metadata. This includes, where necessary, conversion to a GIBS supported Coordinate Reference System (CRS) and preferred resolutions. User customizations, including `crs`, `scale_extents`, and dimensions (`height` & `width`), can be requested, but the generated outputs may not be compatible with GIBS. \n",
    "\n",
    "The examples use data from these collections:\n",
    "\n",
    "  - MEaSUREs Vegetation Continuous Fields (VCF) Yearly Global 0.05 Deg V001 ([VCF5KYR](https://cmr.uat.earthdata.nasa.gov/search/concepts/C1258119317-EEDTEST)) as GeoTIFF input data to demonstrate the HyBIG service against RGB color banded input. Each granule covers the full Earth.\n",
    "\n",
    "  - ASTER Global Digital Elevation Model (GDEM) Version 3 ([ASTGTM](https://cmr.uat.earthdata.nasa.gov/search/concepts/C1256584478-EEDTEST)) as GeoTIFF input data to demonstrate the HyBIG service using an input GeoTIFF with no color information. Each granule covers a 1° x 1° region at 1\" resolution.\n",
    "\n",
    "#### Authentication prerequisites:\n",
    "\n",
    "The `harmony.Client` class will attempt to use credentials from a local `.netrc` file, located in the home directory of the filesystem where this notebook is running. This will need to contain entries for Earthdata Login for your UAT environment:\n",
    "\n",
    "```\n",
    "machine uat.urs.earthdata.nasa.gov\n",
    "    login <uat_edl_username>\n",
    "    password <uat_edl_password>\n",
    "```"
   ]
  },
  {
   "cell_type": "markdown",
   "id": "802241b5",
   "metadata": {},
   "source": [
    "### Import required packages:\n",
    "\n",
    "The cell below imports classes and functions from various Python packages, including:\n",
    "\n",
    "* `harmony-py`: A package that allows for easy, interaction with the Harmony API that can be written directly in Python.\n",
    "* `pathlib` : standard python package for working with object oriented paths.\n",
    "* [`gdal`]: *optional* A geographic tranlator library that provides the `gdalinfo` binary needed for some cells to function. This can be easily installed with [conda](https://docs.conda.io/en/latest/)."
   ]
  },
  {
   "cell_type": "code",
   "execution_count": null,
   "id": "295b8341",
   "metadata": {},
   "outputs": [],
   "source": [
    "from harmony import Collection, Environment, Client, Request\n",
    "\n",
    "# creates an output directory for the downloaded files\n",
    "from pathlib import Path\n",
    "\n",
    "output_dir = Path('./hybig-output')\n",
    "Path.mkdir(output_dir, exist_ok=True)"
   ]
  },
  {
   "cell_type": "markdown",
   "id": "9b644811",
   "metadata": {},
   "source": [
    "### Set up example variables:\n",
    "\n",
    "This includes the Harmony `Client` object and `Collection` and `Granules` for each of the data sets to examine. "
   ]
  },
  {
   "cell_type": "code",
   "execution_count": null,
   "id": "437af5f8",
   "metadata": {},
   "outputs": [],
   "source": [
    "aster_collection = Collection(id='C1256584478-EEDTEST')\n",
    "aster_granule = 'G1256584570-EEDTEST'\n",
    "\n",
    "measures_collection = Collection(id='C1258119317-EEDTEST')\n",
    "measures_granule = 'G1258119387-EEDTEST'\n",
    "\n",
    "harmony_client = Client(env=Environment.UAT)"
   ]
  },
  {
   "cell_type": "markdown",
   "id": "3716416c-81e0-49a3-b1f4-7d2d64106622",
   "metadata": {},
   "source": [
    "### Example: default request for MEaSUREs VCF5KYR 3-Band RGB GeoTIFF input\n",
    "\n",
    "This makes a default request for the data without input\n",
    "parameters. This allows the HyBIG service to determine a\n",
    "GIBS compatible output image.\n",
    "\n",
    "The only selection made is the output image type, which can be either PNG or JPEG\n",
    "and selection is done with the `format` keyword to the `Request`, by specifying\n",
    "either 'image/png' or 'image/jpeg'\n"
   ]
  },
  {
   "cell_type": "code",
   "execution_count": null,
   "id": "be61b774-21a2-459b-9870-c3cb02322082",
   "metadata": {},
   "outputs": [],
   "source": [
    "# Valid values are 'image/png' and 'image/jpeg':\n",
    "image_format = 'image/png'\n",
    "\n",
    "\n",
    "# Specify a request to create a browse image from an MEaSUREs granule:\n",
    "measures_request = Request(\n",
    "    collection=measures_collection, granule_id=measures_granule, format=image_format\n",
    ")\n",
    "\n",
    "# Submit the request and wait for it to complete:\n",
    "measures_job_id = harmony_client.submit(measures_request)\n",
    "harmony_client.wait_for_processing(measures_job_id, show_progress=True)\n",
    "\n",
    "# Download all of the generated files:\n",
    "example1_output_dir = output_dir / 'example1'\n",
    "Path.mkdir(example1_output_dir, exist_ok=True)\n",
    "downloaded_outputs = [\n",
    "    file_future.result()\n",
    "    for file_future in harmony_client.download_all(\n",
    "        measures_job_id, overwrite=True, directory=example1_output_dir\n",
    "    )\n",
    "]"
   ]
  },
  {
   "cell_type": "markdown",
   "id": "ae8980f2-c23a-4a6f-af51-18c9301379a9",
   "metadata": {},
   "source": [
    "The output PNG image:\n",
    "\n",
    "<img src='hybig-output/example1/VCF5KYR_1991001_001_2018224205008.png' width='700px' align='left'>"
   ]
  },
  {
   "cell_type": "code",
   "execution_count": null,
   "id": "83ce1839-8d00-4bff-b39a-48a430a5ce05",
   "metadata": {},
   "outputs": [],
   "source": [
    "# view all of the output files\n",
    "!ls \"hybig-output/example1\""
   ]
  },
  {
   "cell_type": "markdown",
   "id": "d320b095",
   "metadata": {},
   "source": [
    "Three files are created and downloaded from Harmony:\n",
    "\n",
    "A PNG image file: `VCF5KYR_1991001_001_2018224205008.png`\n",
    "  - PNG files are the raster representation of the data in a standard image format.\n",
    "  \n",
    "An ESRI world file: `VCF5KYR_1991001_001_2018224205008.pgw`\n",
    "  - World files establish an image-to-world transformation that converts the image coordinates to real-world coordinates.  This is the metadata file to submit to GIBS. *A drawback to these files is that they do not contain the Spatial Reference System (SRS) for the image, but only the GeoTransoform.*\n",
    "\n",
    "An ARCGIS auxiliary file: `VCF5KYR_1991001_001_2018224205008.png.aux.xml`\n",
    "  - An auxiliary file (.aux.xml) accompanies the raster in the same location and stores any additional information that cannot be stored in the raster file itself. In this case it contains the Spatial Reference System (SRS) and the GeoTransform describing the pixel location.  This file is used when importing the image into a GIS workspace."
   ]
  },
  {
   "cell_type": "markdown",
   "id": "dd238763",
   "metadata": {},
   "source": [
    "The output image is a paletted PNG as that is GIBS preferred image format. A paletted PNG is an image with only one band of byte values and an associated color lookup table embedded in the image.  \n",
    "\n",
    "This means that the data in the image is stored as values from 0 to 255 and each value maps to a color quartet of Red, Green, Blue and Alpha values. This reduces the size of the output image.\n",
    "\n",
    "In the next cell, `gdalinfo` is run on the output PNG file. \n",
    "Notice there is only one band with color interpreted by Palette, and the actual color values are shown below the `Color Table`. "
   ]
  },
  {
   "cell_type": "code",
   "execution_count": null,
   "id": "acf5274d",
   "metadata": {
    "scrolled": true
   },
   "outputs": [],
   "source": [
    "# if gdalinfo is installed you can see the palette associated with the PNG image.\n",
    "!gdalinfo  hybig-output/example1/VCF5KYR_1991001_001_2018224205008.png"
   ]
  },
  {
   "cell_type": "markdown",
   "id": "66f86107",
   "metadata": {},
   "source": [
    "### Example:  specified spatial extents override GIBS-compatible defaults:\n",
    "\n",
    "This example specifies a `scale_extent` in the request, which tells Harmony the spatial area of the output browse imagery. \n",
    "\n",
    "This example will use an ASTER granule, with the following extent:\n",
    "\n",
    "* 22 ≤ longitude (degrees east) ≤ 23\n",
    "* 0 ≤ latitude (degrees north) ≤ 1\n",
    "\n",
    "The expected output should be a single tile - while the resolution is fine enough to trigger tiling, the specified scale extent is small enough to land within a single tile.  Because the output is tiled, the column and row of the tile is returned as part of the output file name, in this case `r00c00` row 0 column 0"
   ]
  },
  {
   "cell_type": "code",
   "execution_count": null,
   "id": "9e763411",
   "metadata": {},
   "outputs": [],
   "source": [
    "# The extent of the image [xmin, ymin, xmax, ymax]\n",
    "scale_extent = [22, 0, 23, 1]\n",
    "\n",
    "# Specify a request to create a browse image from an ASTER granule specifying\n",
    "# the scale extent of the image:\n",
    "extent_request = Request(\n",
    "    collection=aster_collection,\n",
    "    granule_id=aster_granule,\n",
    "    scale_extent=scale_extent,\n",
    "    crs='EPSG:4326',\n",
    "    format='image/jpeg',\n",
    ")\n",
    "\n",
    "# Submit the request and wait for it to complete:\n",
    "extent_job_id = harmony_client.submit(extent_request)\n",
    "harmony_client.wait_for_processing(extent_job_id, show_progress=True)\n",
    "\n",
    "# download all generated files:\n",
    "example2_output_dir = output_dir / 'example2'\n",
    "Path.mkdir(example2_output_dir, exist_ok=True)\n",
    "downloaded_extent_outputs = [\n",
    "    file_future.result()\n",
    "    for file_future in harmony_client.download_all(\n",
    "        extent_job_id, overwrite=True, directory=example2_output_dir\n",
    "    )\n",
    "]"
   ]
  },
  {
   "cell_type": "markdown",
   "id": "78c584ec",
   "metadata": {},
   "source": [
    "#### The resulting output JPEG\n",
    "<img src=\"hybig-output/example2/ASTGTMV003_N00E022_dem.r00c00.jpg\" width=500 align='left'/>"
   ]
  },
  {
   "cell_type": "markdown",
   "id": "0e69f122",
   "metadata": {},
   "source": [
    "**The cell below shows the tile extents match the requested tile extents.**\n",
    "\n",
    "* 22 ≤ longitude (degrees east) ≤ 23\n",
    "* 0 ≤ latitude (degrees north) ≤ 1"
   ]
  },
  {
   "cell_type": "code",
   "execution_count": null,
   "id": "554bdd07",
   "metadata": {},
   "outputs": [],
   "source": [
    "# If gdal is installed this will show you the corner points associated with the output files.\n",
    "!gdalinfo hybig-output/example2/ASTGTMV003_N00E022_dem.r00c00.jpg | grep -E \"Left|Right\""
   ]
  },
  {
   "cell_type": "markdown",
   "id": "80f65c5a",
   "metadata": {},
   "source": [
    "### Example:  spatial sizes (resolutions) override GIBS-compatible defaults:\n",
    "\n",
    "This example demonstrates how a `scale_size` in the request sets the resolution of the produced browse imagery.  This example specifies two custom resolutions (one in each dimension), that are not GIBS-compatible defaults.\n",
    "\n",
    "The output is a single image with the requested resolutions.\n",
    "\n",
    "The example specifies resolutions of 1° in longitude and 2° in latitude. Choosing a y-dimension scale size that is twice as large as the x-dimension scale size means the outputs will look squashed in the vertical direction, the output size will be 360 x 90 "
   ]
  },
  {
   "cell_type": "code",
   "execution_count": null,
   "id": "38b2cdbb",
   "metadata": {},
   "outputs": [],
   "source": [
    "# Set scales to 1° longitude and 2° latitude\n",
    "scale_sizes = [1.0, 2.0]\n",
    "\n",
    "# Specify a request to create a browse image from an MEaSUREs granule\n",
    "# with the desired scale_sizes:\n",
    "scale_size_request = Request(\n",
    "    collection=measures_collection,\n",
    "    granule_id=measures_granule,\n",
    "    scale_size=scale_sizes,\n",
    "    crs='EPSG:4326',\n",
    "    format='image/png',\n",
    ")\n",
    "\n",
    "# Submit the request and wait for it to complete:\n",
    "scale_size_job_id = harmony_client.submit(scale_size_request)\n",
    "harmony_client.wait_for_processing(scale_size_job_id, show_progress=True)\n",
    "\n",
    "# download all generated files:\n",
    "example3_output_dir = output_dir / 'example3'\n",
    "Path.mkdir(example3_output_dir, exist_ok=True)\n",
    "downloaded_scale_size_outputs = [\n",
    "    file_future.result()\n",
    "    for file_future in harmony_client.download_all(\n",
    "        scale_size_job_id, overwrite=True, directory=example3_output_dir\n",
    "    )\n",
    "]"
   ]
  },
  {
   "cell_type": "markdown",
   "id": "7f912c06",
   "metadata": {},
   "source": [
    "The image generated is shown:\n",
    "\n",
    "\n",
    "<img src='hybig-output/example3/VCF5KYR_1991001_001_2018224205008.png' align='left'/>"
   ]
  },
  {
   "cell_type": "markdown",
   "id": "05be0959",
   "metadata": {},
   "source": [
    "### Example: dimensions override GIBS-compatible defaults:\n",
    "\n",
    "This example specifies the output browse image size by customizing `height` and `width` in the request. \n",
    "\n",
    "We choose height and width to be equal in this example. \n",
    "\n",
    "Because the input has twice as many pixels in the x-direction, the output browse image will look squashed in the horizontal direction."
   ]
  },
  {
   "cell_type": "code",
   "execution_count": null,
   "id": "a3eae07c",
   "metadata": {},
   "outputs": [],
   "source": [
    "# Specify a request to create a browse image from an MEaSUREs granule\n",
    "# specify both height and width to be the same:\n",
    "dimensions_request = Request(\n",
    "    collection=measures_collection,\n",
    "    granule_id=measures_granule,\n",
    "    height=180,\n",
    "    width=180,\n",
    "    format='image/png',\n",
    ")\n",
    "\n",
    "# Submit the request and wait for it to complete:\n",
    "dimensions_job_id = harmony_client.submit(dimensions_request)\n",
    "harmony_client.wait_for_processing(dimensions_job_id, show_progress=True)\n",
    "\n",
    "# download all generated files:\n",
    "example4_output_dir = output_dir / 'example4'\n",
    "Path.mkdir(example4_output_dir, exist_ok=True)\n",
    "downloaded_dimensions_outputs = [\n",
    "    file_future.result()\n",
    "    for file_future in harmony_client.download_all(\n",
    "        dimensions_job_id, overwrite=True, directory=example4_output_dir\n",
    "    )\n",
    "]"
   ]
  },
  {
   "cell_type": "markdown",
   "id": "9e91ee15",
   "metadata": {},
   "source": [
    "The resulting square image is:\n",
    "\n",
    "<img src='hybig-output/example4/VCF5KYR_1991001_001_2018224205008.png' align='left' />"
   ]
  },
  {
   "cell_type": "markdown",
   "id": "11639b67",
   "metadata": {},
   "source": [
    "### Example: Tiled outputs:\n",
    "\n",
    "This demonstrates tiled output. For high-resolution granules GIBS prefers large input images to be split into contiguous tiles, which can be combined to represent the entire input data array. The demonstration request specifies a combination of `scale_size` and `scale_extent` that will cause HyBIG to tile the output imagery.  At the same time, we ensure only two tiles are generated, as the current tiling scheme (10° x 10°) results in a large number of tiles for a whole-Earth product.\n",
    "\n",
    "The output is 2 contiguous tiles, each covering part of Iceland:\n",
    "\n",
    "**Tile 1 (r00c00):**\n",
    "* -30 ≤ longitude (degrees east) ≤ -20\n",
    "* 60 ≤ latitude (degrees north) ≤ 70\n",
    "\n",
    "**Tile 2 (r00c01):**\n",
    "* -20 ≤ longitude (degrees east) ≤ -10\n",
    "* 60 ≤ latitude (degrees north) ≤ 70"
   ]
  },
  {
   "cell_type": "code",
   "execution_count": null,
   "id": "97bd2abd",
   "metadata": {},
   "outputs": [],
   "source": [
    "# customize the scale_extent and scale_size for iceland\n",
    "iceland_extent = [-30, 60, -10, 70]\n",
    "iceland_scale_size = [0.01, 0.01]\n",
    "\n",
    "# Specify a request to create a browse image from an ASTER granule specifying\n",
    "# scale_extent and scale_size to create two tiles:\n",
    "tiled_request = Request(\n",
    "    collection=measures_collection,\n",
    "    granule_id=measures_granule,\n",
    "    scale_extent=iceland_extent,\n",
    "    scale_size=iceland_scale_size,\n",
    "    crs='EPSG:4326',\n",
    "    format='image/png',\n",
    ")\n",
    "\n",
    "# Submit the request and wait for it to complete:\n",
    "tiled_job_id = harmony_client.submit(tiled_request)\n",
    "harmony_client.wait_for_processing(tiled_job_id, show_progress=True)\n",
    "\n",
    "# download all generated files:\n",
    "example5_output_dir = output_dir / 'example5'\n",
    "Path.mkdir(example5_output_dir, exist_ok=True)\n",
    "downloaded_tiled_outputs = [\n",
    "    file_future.result()\n",
    "    for file_future in harmony_client.download_all(\n",
    "        tiled_job_id, overwrite=True, directory=example5_output_dir\n",
    "    )\n",
    "]"
   ]
  },
  {
   "cell_type": "markdown",
   "id": "319a2b99",
   "metadata": {},
   "source": [
    "We can see the two output images here:\n",
    "\n",
    "\n",
    "<table margin-left=0><tr>\n",
    "<td> <img src='hybig-output/example5/VCF5KYR_1991001_001_2018224205008.r00c00.png' width=250 /> </td>\n",
    "<td> <img src='hybig-output/example5/VCF5KYR_1991001_001_2018224205008.r00c01.png' width=250 /> </td>\n",
    "</tr></table>\n"
   ]
  },
  {
   "cell_type": "markdown",
   "id": "ac044d41",
   "metadata": {},
   "source": [
    "#### Clean up the output notebook directory"
   ]
  },
  {
   "cell_type": "code",
   "execution_count": null,
   "id": "4d378d35",
   "metadata": {},
   "outputs": [],
   "source": [
    "from shutil import rmtree\n",
    "\n",
    "rmtree(output_dir)"
   ]
  }
 ],
 "metadata": {
  "celltoolbar": "Tags",
  "kernelspec": {
   "display_name": "Python 3 (ipykernel)",
   "language": "python",
   "name": "python3"
  },
  "language_info": {
   "codemirror_mode": {
    "name": "ipython",
    "version": 3
   },
   "file_extension": ".py",
   "mimetype": "text/x-python",
   "name": "python",
   "nbconvert_exporter": "python",
   "pygments_lexer": "ipython3",
   "version": "3.11.5"
  },
  "name": "HyBIG-Example-Usage.ipynb"
 },
 "nbformat": 4,
 "nbformat_minor": 5
}
